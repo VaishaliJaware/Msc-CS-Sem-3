{
 "cells": [
  {
   "cell_type": "code",
   "execution_count": 2,
   "id": "069e6731",
   "metadata": {},
   "outputs": [],
   "source": [
    "import torch\n",
    "import torchvision"
   ]
  },
  {
   "cell_type": "code",
   "execution_count": 3,
   "id": "d6d266b9",
   "metadata": {},
   "outputs": [
    {
     "data": {
      "text/plain": [
       "<torch._C.Generator at 0x24035667db0>"
      ]
     },
     "execution_count": 3,
     "metadata": {},
     "output_type": "execute_result"
    }
   ],
   "source": [
    "n_epochs = 3\n",
    "batch_size_train = 64\n",
    "batch_size_test = 1000\n",
    "learning_rate = 0.01\n",
    "momentum = 0.5\n",
    "log_interval = 10\n",
    "\n",
    "random_seed = 1\n",
    "torch.backends.cudnn.enabled = False\n",
    "torch.manual_seed(random_seed)"
   ]
  },
  {
   "cell_type": "code",
   "execution_count": 5,
   "id": "bb414b86",
   "metadata": {},
   "outputs": [],
   "source": [
    "train_loader = torch.utils.data.DataLoader(\n",
    "  torchvision.datasets.MNIST('/files/', train=True, download=True,\n",
    "                             transform=torchvision.transforms.Compose([\n",
    "                               torchvision.transforms.ToTensor(),\n",
    "                               torchvision.transforms.Normalize(\n",
    "                                 (0.1307,), (0.3081,))\n",
    "                             ])),\n",
    "  batch_size=batch_size_train, shuffle=True)\n",
    "\n",
    "test_loader = torch.utils.data.DataLoader(\n",
    "  torchvision.datasets.MNIST('/files/', train=False, download=True,\n",
    "                             transform=torchvision.transforms.Compose([\n",
    "                               torchvision.transforms.ToTensor(),\n",
    "                               torchvision.transforms.Normalize(\n",
    "                                 (0.1307,), (0.3081,))\n",
    "                             ])),\n",
    "  batch_size=batch_size_test, shuffle=True)"
   ]
  },
  {
   "cell_type": "code",
   "execution_count": 6,
   "id": "f3beb0b1",
   "metadata": {},
   "outputs": [
    {
     "data": {
      "text/plain": [
       "torch.Size([1000, 1, 28, 28])"
      ]
     },
     "execution_count": 6,
     "metadata": {},
     "output_type": "execute_result"
    }
   ],
   "source": [
    "examples = enumerate(test_loader)\n",
    "batch_idx, (example_data, example_targets) = next(examples)\n",
    "\n",
    "example_data.shape"
   ]
  },
  {
   "cell_type": "code",
   "execution_count": 7,
   "id": "1acf784d",
   "metadata": {},
   "outputs": [],
   "source": [
    "%matplotlib inline"
   ]
  },
  {
   "cell_type": "code",
   "execution_count": 8,
   "id": "a0433131",
   "metadata": {},
   "outputs": [
    {
     "data": {
      "image/png": "[encoded data removed]",
      "text/plain": [
       "<Figure size 432x288 with 6 Axes>"
      ]
     },
     "metadata": {},
     "output_type": "display_data"
    }
   ],
   "source": [
    "import matplotlib.pyplot as plt\n",
    "\n",
    "fig = plt.figure()\n",
    "for i in range(6):\n",
    "  plt.subplot(2,3,i+1)\n",
    "  plt.tight_layout()\n",
    "  plt.imshow(example_data[i][0], cmap='gray', interpolation='none')\n",
    "  plt.title(\"Ground Truth: {}\".format(example_targets[i]))\n",
    "  plt.xticks([])\n",
    "  plt.yticks([])"
   ]
  },
  {
   "cell_type": "code",
   "execution_count": 9,
   "id": "f96296e8",
   "metadata": {},
   "outputs": [],
   "source": [
    "import torch.nn as nn\n",
    "import torch.nn.functional as F\n",
    "import torch.optim as optim"
   ]
  },
  {
   "cell_type": "code",
   "execution_count": 10,
   "id": "393f2882",
   "metadata": {},
   "outputs": [],
   "source": [
    "class Neural_Network(nn.Module):\n",
    "    def __init__(self):\n",
    "        super(Neural_Network, self).__init__()\n",
    "        self.conv1 = nn.Conv2d(1, 10, kernel_size=5)\n",
    "        self.conv2 = nn.Conv2d(10, 20, kernel_size=5)\n",
    "        self.conv2_drop = nn.Dropout2d()\n",
    "        self.fc1 = nn.Linear(320, 50)\n",
    "        self.fc2 = nn.Linear(50, 10)\n",
    "\n",
    "    def forward(self, x):\n",
    "        x = F.relu(F.max_pool2d(self.conv1(x), 2))\n",
    "        x = F.relu(F.max_pool2d(self.conv2_drop(self.conv2(x)), 2))\n",
    "        x = x.view(-1, 320)\n",
    "        x = F.relu(self.fc1(x))\n",
    "        x = F.dropout(x, training=self.training)\n",
    "        x = self.fc2(x)\n",
    "        return F.log_softmax(x)"
   ]
  },
  {
   "cell_type": "code",
   "execution_count": 11,
   "id": "5abcfd47",
   "metadata": {},
   "outputs": [],
   "source": [
    "neural_network = Neural_Network()\n",
    "optimizer = optim.SGD(neural_network.parameters(),lr = learning_rate, momentum = momentum)"
   ]
  },
  {
   "cell_type": "code",
   "execution_count": 12,
   "id": "c9dffdeb",
   "metadata": {},
   "outputs": [],
   "source": [
    "train_losses = []\n",
    "train_counter = []\n",
    "test_losses = []\n",
    "test_counter = [i*len(train_loader.dataset) for i in range(n_epochs + 1)]"
   ]
  },
  {
   "cell_type": "code",
   "execution_count": 13,
   "id": "e6f44058",
   "metadata": {},
   "outputs": [],
   "source": [
    "def train(epoch):\n",
    "  neural_network.train()\n",
    "  for batch_idx, (data, target) in enumerate(train_loader):\n",
    "    optimizer.zero_grad()\n",
    "    output = neural_network(data)\n",
    "    loss = F.nll_loss(output, target)\n",
    "    loss.backward()\n",
    "    optimizer.step()\n",
    "    if batch_idx % log_interval == 0:\n",
    "      print('Train Epoch: {} [{}/{} ({:.0f}%)]\\tLoss: {:.6f}'.format(\n",
    "        epoch, batch_idx * len(data), len(train_loader.dataset),\n",
    "        100. * batch_idx / len(train_loader), loss.item()))\n",
    "      train_losses.append(loss.item())\n",
    "      train_counter.append(\n",
    "        (batch_idx*64) + ((epoch-1)*len(train_loader.dataset)))"
   ]
  },
  {
   "cell_type": "code",
   "execution_count": 14,
   "id": "20ccf0c7",
   "metadata": {},
   "outputs": [],
   "source": [
    "def test():\n",
    "  neural_network.eval()\n",
    "  test_loss = 0\n",
    "  correct = 0\n",
    "  with torch.no_grad():\n",
    "    for data, target in test_loader:\n",
    "      output = neural_network(data)\n",
    "      test_loss += F.nll_loss(output, target, size_average=False).item()\n",
    "      pred = output.data.max(1, keepdim=True)[1]\n",
    "      correct += pred.eq(target.data.view_as(pred)).sum()\n",
    "  test_loss /= len(test_loader.dataset)\n",
    "  test_losses.append(test_loss)\n",
    "  print('\\nTest set: Avg. loss: {:.4f}, Accuracy: {}/{} ({:.0f}%)\\n'.format(\n",
    "    test_loss, correct, len(test_loader.dataset),\n",
    "    100. * correct / len(test_loader.dataset)))"
   ]
  },
  {
   "cell_type": "code",
   "execution_count": 15,
   "id": "2c23940d",
   "metadata": {},
   "outputs": [
    {
     "name": "stderr",
     "output_type": "stream",
     "text": [
      "C:\\Users\\Vaishali\\AppData\\Local\\Temp\\ipykernel_17744\\4204875352.py:17: UserWarning: Implicit dimension choice for log_softmax has been deprecated. Change the call to include dim=X as an argument.\n",
      "  return F.log_softmax(x)\n",
      "C:\\Users\\Vaishali\\anaconda3\\lib\\site-packages\\torch\\nn\\_reduction.py:42: UserWarning: size_average and reduce args will be deprecated, please use reduction='sum' instead.\n",
      "  warnings.warn(warning.format(ret))\n"
     ]
    },
    {
     "name": "stdout",
     "output_type": "stream",
     "text": [
      "\n",
      "Test set: Avg. loss: 2.3096, Accuracy: 924/10000 (9%)\n",
      "\n",
      "Train Epoch: 1 [0/60000 (0%)]\tLoss: 2.313179\n",
      "Train Epoch: 1 [640/60000 (1%)]\tLoss: 2.300776\n",
      "Train Epoch: 1 [1280/60000 (2%)]\tLoss: 2.298872\n",
      "Train Epoch: 1 [1920/60000 (3%)]\tLoss: 2.276723\n",
      "Train Epoch: 1 [2560/60000 (4%)]\tLoss: 2.241102\n",
      "Train Epoch: 1 [3200/60000 (5%)]\tLoss: 2.248662\n",
      "Train Epoch: 1 [3840/60000 (6%)]\tLoss: 2.189547\n",
      "Train Epoch: 1 [4480/60000 (7%)]\tLoss: 2.146399\n",
      "Train Epoch: 1 [5120/60000 (9%)]\tLoss: 2.107701\n",
      "Train Epoch: 1 [5760/60000 (10%)]\tLoss: 2.011356\n",
      "Train Epoch: 1 [6400/60000 (11%)]\tLoss: 1.843857\n",
      "Train Epoch: 1 [7040/60000 (12%)]\tLoss: 1.758839\n",
      "Train Epoch: 1 [7680/60000 (13%)]\tLoss: 1.672644\n",
      "Train Epoch: 1 [8320/60000 (14%)]\tLoss: 1.687645\n",
      "Train Epoch: 1 [8960/60000 (15%)]\tLoss: 1.426628\n",
      "Train Epoch: 1 [9600/60000 (16%)]\tLoss: 1.284204\n",
      "Train Epoch: 1 [10240/60000 (17%)]\tLoss: 1.318824\n",
      "Train Epoch: 1 [10880/60000 (18%)]\tLoss: 1.445287\n",
      "Train Epoch: 1 [11520/60000 (19%)]\tLoss: 1.140658\n",
      "Train Epoch: 1 [12160/60000 (20%)]\tLoss: 1.152956\n",
      "Train Epoch: 1 [12800/60000 (21%)]\tLoss: 1.053577\n",
      "Train Epoch: 1 [13440/60000 (22%)]\tLoss: 0.899838\n",
      "Train Epoch: 1 [14080/60000 (23%)]\tLoss: 1.192381\n",
      "Train Epoch: 1 [14720/60000 (25%)]\tLoss: 0.947141\n",
      "Train Epoch: 1 [15360/60000 (26%)]\tLoss: 0.874856\n",
      "Train Epoch: 1 [16000/60000 (27%)]\tLoss: 0.848544\n",
      "Train Epoch: 1 [16640/60000 (28%)]\tLoss: 0.771893\n",
      "Train Epoch: 1 [17280/60000 (29%)]\tLoss: 0.764048\n",
      "Train Epoch: 1 [17920/60000 (30%)]\tLoss: 0.805497\n",
      "Train Epoch: 1 [18560/60000 (31%)]\tLoss: 0.891861\n",
      "Train Epoch: 1 [19200/60000 (32%)]\tLoss: 0.795640\n",
      "Train Epoch: 1 [19840/60000 (33%)]\tLoss: 0.910627\n",
      "Train Epoch: 1 [20480/60000 (34%)]\tLoss: 0.582403\n",
      "Train Epoch: 1 [21120/60000 (35%)]\tLoss: 0.694939\n",
      "Train Epoch: 1 [21760/60000 (36%)]\tLoss: 0.619523\n",
      "Train Epoch: 1 [22400/60000 (37%)]\tLoss: 0.766233\n",
      "Train Epoch: 1 [23040/60000 (38%)]\tLoss: 0.715024\n",
      "Train Epoch: 1 [23680/60000 (39%)]\tLoss: 0.632636\n",
      "Train Epoch: 1 [24320/60000 (41%)]\tLoss: 0.665659\n",
      "Train Epoch: 1 [24960/60000 (42%)]\tLoss: 0.840592\n",
      "Train Epoch: 1 [25600/60000 (43%)]\tLoss: 0.855430\n",
      "Train Epoch: 1 [26240/60000 (44%)]\tLoss: 0.620044\n",
      "Train Epoch: 1 [26880/60000 (45%)]\tLoss: 0.630453\n",
      "Train Epoch: 1 [27520/60000 (46%)]\tLoss: 0.687899\n",
      "Train Epoch: 1 [28160/60000 (47%)]\tLoss: 0.587980\n",
      "Train Epoch: 1 [28800/60000 (48%)]\tLoss: 0.547443\n",
      "Train Epoch: 1 [29440/60000 (49%)]\tLoss: 0.833101\n",
      "Train Epoch: 1 [30080/60000 (50%)]\tLoss: 0.739253\n",
      "Train Epoch: 1 [30720/60000 (51%)]\tLoss: 0.633102\n",
      "Train Epoch: 1 [31360/60000 (52%)]\tLoss: 0.645753\n",
      "Train Epoch: 1 [32000/60000 (53%)]\tLoss: 0.711187\n",
      "Train Epoch: 1 [32640/60000 (54%)]\tLoss: 0.443457\n",
      "Train Epoch: 1 [33280/60000 (55%)]\tLoss: 0.588979\n",
      "Train Epoch: 1 [33920/60000 (57%)]\tLoss: 0.576426\n",
      "Train Epoch: 1 [34560/60000 (58%)]\tLoss: 0.661740\n",
      "Train Epoch: 1 [35200/60000 (59%)]\tLoss: 0.568467\n",
      "Train Epoch: 1 [35840/60000 (60%)]\tLoss: 0.562746\n",
      "Train Epoch: 1 [36480/60000 (61%)]\tLoss: 0.625155\n",
      "Train Epoch: 1 [37120/60000 (62%)]\tLoss: 0.799745\n",
      "Train Epoch: 1 [37760/60000 (63%)]\tLoss: 0.572310\n",
      "Train Epoch: 1 [38400/60000 (64%)]\tLoss: 0.627214\n",
      "Train Epoch: 1 [39040/60000 (65%)]\tLoss: 0.538816\n",
      "Train Epoch: 1 [39680/60000 (66%)]\tLoss: 0.620210\n",
      "Train Epoch: 1 [40320/60000 (67%)]\tLoss: 0.319990\n",
      "Train Epoch: 1 [40960/60000 (68%)]\tLoss: 0.331809\n",
      "Train Epoch: 1 [41600/60000 (69%)]\tLoss: 0.374665\n",
      "Train Epoch: 1 [42240/60000 (70%)]\tLoss: 0.298212\n",
      "Train Epoch: 1 [42880/60000 (71%)]\tLoss: 0.413165\n",
      "Train Epoch: 1 [43520/60000 (72%)]\tLoss: 0.431944\n",
      "Train Epoch: 1 [44160/60000 (74%)]\tLoss: 0.449398\n",
      "Train Epoch: 1 [44800/60000 (75%)]\tLoss: 0.612278\n",
      "Train Epoch: 1 [45440/60000 (76%)]\tLoss: 0.526617\n",
      "Train Epoch: 1 [46080/60000 (77%)]\tLoss: 0.516426\n",
      "Train Epoch: 1 [46720/60000 (78%)]\tLoss: 0.384899\n",
      "Train Epoch: 1 [47360/60000 (79%)]\tLoss: 0.493989\n",
      "Train Epoch: 1 [48000/60000 (80%)]\tLoss: 0.564571\n",
      "Train Epoch: 1 [48640/60000 (81%)]\tLoss: 0.411844\n",
      "Train Epoch: 1 [49280/60000 (82%)]\tLoss: 0.390251\n",
      "Train Epoch: 1 [49920/60000 (83%)]\tLoss: 0.531544\n",
      "Train Epoch: 1 [50560/60000 (84%)]\tLoss: 0.432681\n",
      "Train Epoch: 1 [51200/60000 (85%)]\tLoss: 0.689176\n",
      "Train Epoch: 1 [51840/60000 (86%)]\tLoss: 0.497693\n",
      "Train Epoch: 1 [52480/60000 (87%)]\tLoss: 0.692133\n",
      "Train Epoch: 1 [53120/60000 (88%)]\tLoss: 0.538260\n",
      "Train Epoch: 1 [53760/60000 (90%)]\tLoss: 0.556945\n",
      "Train Epoch: 1 [54400/60000 (91%)]\tLoss: 0.633340\n",
      "Train Epoch: 1 [55040/60000 (92%)]\tLoss: 0.438521\n",
      "Train Epoch: 1 [55680/60000 (93%)]\tLoss: 0.560616\n",
      "Train Epoch: 1 [56320/60000 (94%)]\tLoss: 0.546954\n",
      "Train Epoch: 1 [56960/60000 (95%)]\tLoss: 0.358081\n",
      "Train Epoch: 1 [57600/60000 (96%)]\tLoss: 0.311917\n",
      "Train Epoch: 1 [58240/60000 (97%)]\tLoss: 0.296446\n",
      "Train Epoch: 1 [58880/60000 (98%)]\tLoss: 0.726035\n",
      "Train Epoch: 1 [59520/60000 (99%)]\tLoss: 0.380482\n",
      "\n",
      "Test set: Avg. loss: 0.1874, Accuracy: 9439/10000 (94%)\n",
      "\n",
      "Train Epoch: 2 [0/60000 (0%)]\tLoss: 0.449019\n",
      "Train Epoch: 2 [640/60000 (1%)]\tLoss: 0.462725\n",
      "Train Epoch: 2 [1280/60000 (2%)]\tLoss: 0.495514\n",
      "Train Epoch: 2 [1920/60000 (3%)]\tLoss: 0.512394\n",
      "Train Epoch: 2 [2560/60000 (4%)]\tLoss: 0.299871\n",
      "Train Epoch: 2 [3200/60000 (5%)]\tLoss: 0.167681\n",
      "Train Epoch: 2 [3840/60000 (6%)]\tLoss: 0.484251\n",
      "Train Epoch: 2 [4480/60000 (7%)]\tLoss: 0.409977\n",
      "Train Epoch: 2 [5120/60000 (9%)]\tLoss: 0.384913\n",
      "Train Epoch: 2 [5760/60000 (10%)]\tLoss: 0.647631\n",
      "Train Epoch: 2 [6400/60000 (11%)]\tLoss: 0.564836\n",
      "Train Epoch: 2 [7040/60000 (12%)]\tLoss: 0.315798\n",
      "Train Epoch: 2 [7680/60000 (13%)]\tLoss: 0.457271\n",
      "Train Epoch: 2 [8320/60000 (14%)]\tLoss: 0.633889\n",
      "Train Epoch: 2 [8960/60000 (15%)]\tLoss: 0.495663\n",
      "Train Epoch: 2 [9600/60000 (16%)]\tLoss: 0.443878\n",
      "Train Epoch: 2 [10240/60000 (17%)]\tLoss: 0.313256\n",
      "Train Epoch: 2 [10880/60000 (18%)]\tLoss: 0.505702\n",
      "Train Epoch: 2 [11520/60000 (19%)]\tLoss: 0.318848\n",
      "Train Epoch: 2 [12160/60000 (20%)]\tLoss: 0.325535\n",
      "Train Epoch: 2 [12800/60000 (21%)]\tLoss: 0.470958\n",
      "Train Epoch: 2 [13440/60000 (22%)]\tLoss: 0.460388\n",
      "Train Epoch: 2 [14080/60000 (23%)]\tLoss: 0.490171\n",
      "Train Epoch: 2 [14720/60000 (25%)]\tLoss: 0.363967\n",
      "Train Epoch: 2 [15360/60000 (26%)]\tLoss: 0.205491\n",
      "Train Epoch: 2 [16000/60000 (27%)]\tLoss: 0.245102\n",
      "Train Epoch: 2 [16640/60000 (28%)]\tLoss: 0.364263\n",
      "Train Epoch: 2 [17280/60000 (29%)]\tLoss: 0.422352\n",
      "Train Epoch: 2 [17920/60000 (30%)]\tLoss: 0.330548\n",
      "Train Epoch: 2 [18560/60000 (31%)]\tLoss: 0.325903\n",
      "Train Epoch: 2 [19200/60000 (32%)]\tLoss: 0.503694\n",
      "Train Epoch: 2 [19840/60000 (33%)]\tLoss: 0.323795\n",
      "Train Epoch: 2 [20480/60000 (34%)]\tLoss: 0.364516\n",
      "Train Epoch: 2 [21120/60000 (35%)]\tLoss: 0.372798\n",
      "Train Epoch: 2 [21760/60000 (36%)]\tLoss: 0.487739\n",
      "Train Epoch: 2 [22400/60000 (37%)]\tLoss: 0.616653\n",
      "Train Epoch: 2 [23040/60000 (38%)]\tLoss: 0.491632\n",
      "Train Epoch: 2 [23680/60000 (39%)]\tLoss: 0.358897\n",
      "Train Epoch: 2 [24320/60000 (41%)]\tLoss: 0.397740\n",
      "Train Epoch: 2 [24960/60000 (42%)]\tLoss: 0.216204\n",
      "Train Epoch: 2 [25600/60000 (43%)]\tLoss: 0.195387\n",
      "Train Epoch: 2 [26240/60000 (44%)]\tLoss: 0.396334\n",
      "Train Epoch: 2 [26880/60000 (45%)]\tLoss: 0.296654\n",
      "Train Epoch: 2 [27520/60000 (46%)]\tLoss: 0.221218\n",
      "Train Epoch: 2 [28160/60000 (47%)]\tLoss: 0.181299\n",
      "Train Epoch: 2 [28800/60000 (48%)]\tLoss: 0.254132\n",
      "Train Epoch: 2 [29440/60000 (49%)]\tLoss: 0.532650\n",
      "Train Epoch: 2 [30080/60000 (50%)]\tLoss: 0.296081\n",
      "Train Epoch: 2 [30720/60000 (51%)]\tLoss: 0.317081\n",
      "Train Epoch: 2 [31360/60000 (52%)]\tLoss: 0.453435\n",
      "Train Epoch: 2 [32000/60000 (53%)]\tLoss: 0.676804\n",
      "Train Epoch: 2 [32640/60000 (54%)]\tLoss: 0.306747\n",
      "Train Epoch: 2 [33280/60000 (55%)]\tLoss: 0.283140\n",
      "Train Epoch: 2 [33920/60000 (57%)]\tLoss: 0.432833\n",
      "Train Epoch: 2 [34560/60000 (58%)]\tLoss: 0.392357\n",
      "Train Epoch: 2 [35200/60000 (59%)]\tLoss: 0.444306\n",
      "Train Epoch: 2 [35840/60000 (60%)]\tLoss: 0.465709\n",
      "Train Epoch: 2 [36480/60000 (61%)]\tLoss: 0.354726\n",
      "Train Epoch: 2 [37120/60000 (62%)]\tLoss: 0.479410\n",
      "Train Epoch: 2 [37760/60000 (63%)]\tLoss: 0.428878\n",
      "Train Epoch: 2 [38400/60000 (64%)]\tLoss: 0.277520\n",
      "Train Epoch: 2 [39040/60000 (65%)]\tLoss: 0.195391\n",
      "Train Epoch: 2 [39680/60000 (66%)]\tLoss: 0.431727\n",
      "Train Epoch: 2 [40320/60000 (67%)]\tLoss: 0.200064\n",
      "Train Epoch: 2 [40960/60000 (68%)]\tLoss: 0.482279\n",
      "Train Epoch: 2 [41600/60000 (69%)]\tLoss: 0.141146\n",
      "Train Epoch: 2 [42240/60000 (70%)]\tLoss: 0.345248\n",
      "Train Epoch: 2 [42880/60000 (71%)]\tLoss: 0.449205\n",
      "Train Epoch: 2 [43520/60000 (72%)]\tLoss: 0.293190\n",
      "Train Epoch: 2 [44160/60000 (74%)]\tLoss: 0.393912\n",
      "Train Epoch: 2 [44800/60000 (75%)]\tLoss: 0.243957\n",
      "Train Epoch: 2 [45440/60000 (76%)]\tLoss: 0.504803\n",
      "Train Epoch: 2 [46080/60000 (77%)]\tLoss: 0.300903\n",
      "Train Epoch: 2 [46720/60000 (78%)]\tLoss: 0.267347\n",
      "Train Epoch: 2 [47360/60000 (79%)]\tLoss: 0.199061\n",
      "Train Epoch: 2 [48000/60000 (80%)]\tLoss: 0.266271\n",
      "Train Epoch: 2 [48640/60000 (81%)]\tLoss: 0.363113\n",
      "Train Epoch: 2 [49280/60000 (82%)]\tLoss: 0.448576\n",
      "Train Epoch: 2 [49920/60000 (83%)]\tLoss: 0.272846\n",
      "Train Epoch: 2 [50560/60000 (84%)]\tLoss: 0.331082\n",
      "Train Epoch: 2 [51200/60000 (85%)]\tLoss: 0.453247\n",
      "Train Epoch: 2 [51840/60000 (86%)]\tLoss: 0.316228\n",
      "Train Epoch: 2 [52480/60000 (87%)]\tLoss: 0.332762\n",
      "Train Epoch: 2 [53120/60000 (88%)]\tLoss: 0.260630\n",
      "Train Epoch: 2 [53760/60000 (90%)]\tLoss: 0.236555\n",
      "Train Epoch: 2 [54400/60000 (91%)]\tLoss: 0.201170\n",
      "Train Epoch: 2 [55040/60000 (92%)]\tLoss: 0.484576\n",
      "Train Epoch: 2 [55680/60000 (93%)]\tLoss: 0.191160\n",
      "Train Epoch: 2 [56320/60000 (94%)]\tLoss: 0.362159\n",
      "Train Epoch: 2 [56960/60000 (95%)]\tLoss: 0.216246\n",
      "Train Epoch: 2 [57600/60000 (96%)]\tLoss: 0.558329\n",
      "Train Epoch: 2 [58240/60000 (97%)]\tLoss: 0.479945\n",
      "Train Epoch: 2 [58880/60000 (98%)]\tLoss: 0.285606\n",
      "Train Epoch: 2 [59520/60000 (99%)]\tLoss: 0.306879\n",
      "\n",
      "Test set: Avg. loss: 0.1156, Accuracy: 9630/10000 (96%)\n",
      "\n",
      "Train Epoch: 3 [0/60000 (0%)]\tLoss: 0.209634\n",
      "Train Epoch: 3 [640/60000 (1%)]\tLoss: 0.247717\n",
      "Train Epoch: 3 [1280/60000 (2%)]\tLoss: 0.399978\n",
      "Train Epoch: 3 [1920/60000 (3%)]\tLoss: 0.257433\n",
      "Train Epoch: 3 [2560/60000 (4%)]\tLoss: 0.265877\n",
      "Train Epoch: 3 [3200/60000 (5%)]\tLoss: 0.323619\n",
      "Train Epoch: 3 [3840/60000 (6%)]\tLoss: 0.266028\n",
      "Train Epoch: 3 [4480/60000 (7%)]\tLoss: 0.474271\n",
      "Train Epoch: 3 [5120/60000 (9%)]\tLoss: 0.515230\n",
      "Train Epoch: 3 [5760/60000 (10%)]\tLoss: 0.396354\n",
      "Train Epoch: 3 [6400/60000 (11%)]\tLoss: 0.333886\n",
      "Train Epoch: 3 [7040/60000 (12%)]\tLoss: 0.347667\n",
      "Train Epoch: 3 [7680/60000 (13%)]\tLoss: 0.254438\n",
      "Train Epoch: 3 [8320/60000 (14%)]\tLoss: 0.169384\n",
      "Train Epoch: 3 [8960/60000 (15%)]\tLoss: 0.250059\n",
      "Train Epoch: 3 [9600/60000 (16%)]\tLoss: 0.241314\n",
      "Train Epoch: 3 [10240/60000 (17%)]\tLoss: 0.282676\n",
      "Train Epoch: 3 [10880/60000 (18%)]\tLoss: 0.302289\n",
      "Train Epoch: 3 [11520/60000 (19%)]\tLoss: 0.428107\n",
      "Train Epoch: 3 [12160/60000 (20%)]\tLoss: 0.224863\n",
      "Train Epoch: 3 [12800/60000 (21%)]\tLoss: 0.460210\n",
      "Train Epoch: 3 [13440/60000 (22%)]\tLoss: 0.326133\n",
      "Train Epoch: 3 [14080/60000 (23%)]\tLoss: 0.354141\n",
      "Train Epoch: 3 [14720/60000 (25%)]\tLoss: 0.323412\n",
      "Train Epoch: 3 [15360/60000 (26%)]\tLoss: 0.300839\n",
      "Train Epoch: 3 [16000/60000 (27%)]\tLoss: 0.807849\n",
      "Train Epoch: 3 [16640/60000 (28%)]\tLoss: 0.516981\n",
      "Train Epoch: 3 [17280/60000 (29%)]\tLoss: 0.442920\n",
      "Train Epoch: 3 [17920/60000 (30%)]\tLoss: 0.307905\n",
      "Train Epoch: 3 [18560/60000 (31%)]\tLoss: 0.301899\n",
      "Train Epoch: 3 [19200/60000 (32%)]\tLoss: 0.348424\n",
      "Train Epoch: 3 [19840/60000 (33%)]\tLoss: 0.364873\n",
      "Train Epoch: 3 [20480/60000 (34%)]\tLoss: 0.182150\n",
      "Train Epoch: 3 [21120/60000 (35%)]\tLoss: 0.177014\n",
      "Train Epoch: 3 [21760/60000 (36%)]\tLoss: 0.331623\n",
      "Train Epoch: 3 [22400/60000 (37%)]\tLoss: 0.221731\n",
      "Train Epoch: 3 [23040/60000 (38%)]\tLoss: 0.446602\n",
      "Train Epoch: 3 [23680/60000 (39%)]\tLoss: 0.208799\n",
      "Train Epoch: 3 [24320/60000 (41%)]\tLoss: 0.262171\n",
      "Train Epoch: 3 [24960/60000 (42%)]\tLoss: 0.165061\n",
      "Train Epoch: 3 [25600/60000 (43%)]\tLoss: 0.415977\n",
      "Train Epoch: 3 [26240/60000 (44%)]\tLoss: 0.204828\n",
      "Train Epoch: 3 [26880/60000 (45%)]\tLoss: 0.200009\n",
      "Train Epoch: 3 [27520/60000 (46%)]\tLoss: 0.216788\n",
      "Train Epoch: 3 [28160/60000 (47%)]\tLoss: 0.341926\n",
      "Train Epoch: 3 [28800/60000 (48%)]\tLoss: 0.455589\n",
      "Train Epoch: 3 [29440/60000 (49%)]\tLoss: 0.161471\n",
      "Train Epoch: 3 [30080/60000 (50%)]\tLoss: 0.271348\n",
      "Train Epoch: 3 [30720/60000 (51%)]\tLoss: 0.244194\n",
      "Train Epoch: 3 [31360/60000 (52%)]\tLoss: 0.234345\n",
      "Train Epoch: 3 [32000/60000 (53%)]\tLoss: 0.453119\n",
      "Train Epoch: 3 [32640/60000 (54%)]\tLoss: 0.339658\n",
      "Train Epoch: 3 [33280/60000 (55%)]\tLoss: 0.183668\n",
      "Train Epoch: 3 [33920/60000 (57%)]\tLoss: 0.444799\n",
      "Train Epoch: 3 [34560/60000 (58%)]\tLoss: 0.248675\n",
      "Train Epoch: 3 [35200/60000 (59%)]\tLoss: 0.314887\n",
      "Train Epoch: 3 [35840/60000 (60%)]\tLoss: 0.477881\n",
      "Train Epoch: 3 [36480/60000 (61%)]\tLoss: 0.186497\n",
      "Train Epoch: 3 [37120/60000 (62%)]\tLoss: 0.197076\n",
      "Train Epoch: 3 [37760/60000 (63%)]\tLoss: 0.313970\n",
      "Train Epoch: 3 [38400/60000 (64%)]\tLoss: 0.433924\n",
      "Train Epoch: 3 [39040/60000 (65%)]\tLoss: 0.343749\n",
      "Train Epoch: 3 [39680/60000 (66%)]\tLoss: 0.192111\n",
      "Train Epoch: 3 [40320/60000 (67%)]\tLoss: 0.244945\n",
      "Train Epoch: 3 [40960/60000 (68%)]\tLoss: 0.462965\n",
      "Train Epoch: 3 [41600/60000 (69%)]\tLoss: 0.338442\n",
      "Train Epoch: 3 [42240/60000 (70%)]\tLoss: 0.389568\n",
      "Train Epoch: 3 [42880/60000 (71%)]\tLoss: 0.179822\n",
      "Train Epoch: 3 [43520/60000 (72%)]\tLoss: 0.244417\n",
      "Train Epoch: 3 [44160/60000 (74%)]\tLoss: 0.292209\n",
      "Train Epoch: 3 [44800/60000 (75%)]\tLoss: 0.170039\n",
      "Train Epoch: 3 [45440/60000 (76%)]\tLoss: 0.242582\n",
      "Train Epoch: 3 [46080/60000 (77%)]\tLoss: 0.331696\n",
      "Train Epoch: 3 [46720/60000 (78%)]\tLoss: 0.185857\n",
      "Train Epoch: 3 [47360/60000 (79%)]\tLoss: 0.389211\n",
      "Train Epoch: 3 [48000/60000 (80%)]\tLoss: 0.344969\n",
      "Train Epoch: 3 [48640/60000 (81%)]\tLoss: 0.209270\n",
      "Train Epoch: 3 [49280/60000 (82%)]\tLoss: 0.233002\n",
      "Train Epoch: 3 [49920/60000 (83%)]\tLoss: 0.468975\n",
      "Train Epoch: 3 [50560/60000 (84%)]\tLoss: 0.406961\n",
      "Train Epoch: 3 [51200/60000 (85%)]\tLoss: 0.432328\n",
      "Train Epoch: 3 [51840/60000 (86%)]\tLoss: 0.237260\n",
      "Train Epoch: 3 [52480/60000 (87%)]\tLoss: 0.474642\n",
      "Train Epoch: 3 [53120/60000 (88%)]\tLoss: 0.209747\n",
      "Train Epoch: 3 [53760/60000 (90%)]\tLoss: 0.186103\n",
      "Train Epoch: 3 [54400/60000 (91%)]\tLoss: 0.390214\n",
      "Train Epoch: 3 [55040/60000 (92%)]\tLoss: 0.310212\n",
      "Train Epoch: 3 [55680/60000 (93%)]\tLoss: 0.179883\n",
      "Train Epoch: 3 [56320/60000 (94%)]\tLoss: 0.292177\n",
      "Train Epoch: 3 [56960/60000 (95%)]\tLoss: 0.323033\n",
      "Train Epoch: 3 [57600/60000 (96%)]\tLoss: 0.554051\n",
      "Train Epoch: 3 [58240/60000 (97%)]\tLoss: 0.371758\n",
      "Train Epoch: 3 [58880/60000 (98%)]\tLoss: 0.111224\n",
      "Train Epoch: 3 [59520/60000 (99%)]\tLoss: 0.319905\n",
      "\n",
      "Test set: Avg. loss: 0.0984, Accuracy: 9687/10000 (97%)\n",
      "\n"
     ]
    }
   ],
   "source": [
    "test()\n",
    "for epoch in range(1, n_epochs + 1):\n",
    "  train(epoch)\n",
    "  test()"
   ]
  },
  {
   "cell_type": "code",
   "execution_count": 16,
   "id": "a0bb0153",
   "metadata": {},
   "outputs": [
    {
     "data": {
      "text/plain": [
       "Text(0, 0.5, 'negative log likelihood loss')"
      ]
     },
     "execution_count": 16,
     "metadata": {},
     "output_type": "execute_result"
    },
    {
     "data": {
      "image/png": "[encoded data removed]",
      "text/plain": [
       "<Figure size 432x288 with 1 Axes>"
      ]
     },
     "metadata": {
      "needs_background": "light"
     },
     "output_type": "display_data"
    }
   ],
   "source": [
    "fig = plt.figure()\n",
    "\n",
    "plt.plot(train_counter, train_losses, color='blue')\n",
    "plt.legend(['Train Loss'], loc='upper right')\n",
    "plt.xlabel('number of training examples seen')\n",
    "plt.ylabel('negative log likelihood loss')"
   ]
  },
  {
   "cell_type": "code",
   "execution_count": 17,
   "id": "25d9945a",
   "metadata": {},
   "outputs": [
    {
     "name": "stderr",
     "output_type": "stream",
     "text": [
      "C:\\Users\\Vaishali\\AppData\\Local\\Temp\\ipykernel_17744\\4204875352.py:17: UserWarning: Implicit dimension choice for log_softmax has been deprecated. Change the call to include dim=X as an argument.\n",
      "  return F.log_softmax(x)\n"
     ]
    }
   ],
   "source": [
    "with torch.no_grad():\n",
    "  output = neural_network(example_data)"
   ]
  },
  {
   "cell_type": "code",
   "execution_count": 18,
   "id": "3e748c46",
   "metadata": {},
   "outputs": [
    {
     "data": {
      "image/png": "[encoded data removed]",
      "text/plain": [
       "<Figure size 432x288 with 6 Axes>"
      ]
     },
     "metadata": {},
     "output_type": "display_data"
    }
   ],
   "source": [
    "fig = plt.figure()\n",
    "for i in range(6):\n",
    "  plt.subplot(2,3,i+1)\n",
    "  plt.tight_layout()\n",
    "  plt.imshow(example_data[i][0], cmap='gray', interpolation='none')\n",
    "  plt.title(\"Prediction: {}\".format(\n",
    "    output.data.max(1, keepdim=True)[1][i].item()))\n",
    "  plt.xticks([])\n",
    "  plt.yticks([])"
   ]
  },
  {
   "cell_type": "code",
   "execution_count": null,
   "id": "cdec3bbd",
   "metadata": {},
   "outputs": [],
   "source": []
  }
 ],
 "metadata": {
  "kernelspec": {
   "display_name": "Python 3 (ipykernel)",
   "language": "python",
   "name": "python3"
  },
  "language_info": {
   "codemirror_mode": {
    "name": "ipython",
    "version": 3
   },
   "file_extension": ".py",
   "mimetype": "text/x-python",
   "name": "python",
   "nbconvert_exporter": "python",
   "pygments_lexer": "ipython3",
   "version": "3.9.12"
  },
  "widgets": {
   "application/vnd.jupyter.widget-state+json": {
    "state": {
     "1afffa31168d4d8abdb67b3de95b84d0": {
      "model_module": "@jupyter-widgets/controls",
      "model_module_version": "1.5.0",
      "model_name": "DescriptionStyleModel",
      "state": {
       "description_width": ""
      }
     },
     "254e8b46f0244ba99578d05a3e9baf8d": {
      "model_module": "@jupyter-widgets/controls",
      "model_module_version": "1.5.0",
      "model_name": "HBoxModel",
      "state": {
       "children": [
        "IPY_MODEL_398421f92a4d49de9d0d239bc5c60d6f",
        "IPY_MODEL_6eb8837ec7a24bbdb7258f048189c33a",
        "IPY_MODEL_4914def9e5054c6f83bd7dae72c8d669"
       ],
       "layout": "IPY_MODEL_6abe1f983e0a4ca49ab875f1ee3c3a7d"
      }
     },
     "2cede76c4e804647a62aaac642495628": {
      "model_module": "@jupyter-widgets/controls",
      "model_module_version": "1.5.0",
      "model_name": "HTMLModel",
      "state": {
       "layout": "IPY_MODEL_f736883c5a294194ab63f4ef97b938b4",
       "style": "IPY_MODEL_82e4f51adecb43daa1cffe28d65def3b",
       "value": "100%"
      }
     },
     "2f9cd6439d084c8ca85f0e480197b5a6": {
      "model_module": "@jupyter-widgets/base",
      "model_module_version": "1.2.0",
      "model_name": "LayoutModel",
      "state": {}
     },
     "398421f92a4d49de9d0d239bc5c60d6f": {
      "model_module": "@jupyter-widgets/controls",
      "model_module_version": "1.5.0",
      "model_name": "HTMLModel",
      "state": {
       "layout": "IPY_MODEL_c232e5cd8d90495a847d25a89157785d",
       "style": "IPY_MODEL_c4fe3035103d44b48841f14d7a4b99f7",
       "value": "100%"
      }
     },
     "4914def9e5054c6f83bd7dae72c8d669": {
      "model_module": "@jupyter-widgets/controls",
      "model_module_version": "1.5.0",
      "model_name": "HTMLModel",
      "state": {
       "layout": "IPY_MODEL_820e97c8b7514f64bd39b188e2ba5a0b",
       "style": "IPY_MODEL_b09637c7db534893ad76760685997326",
       "value": " 28881/28881 [00:00&lt;00:00, 560948.44it/s]"
      }
     },
     "4f301e2b7252445aaee92a7dff30b1bd": {
      "model_module": "@jupyter-widgets/base",
      "model_module_version": "1.2.0",
      "model_name": "LayoutModel",
      "state": {}
     },
     "55b73526023d49d092f9118ac8669c95": {
      "model_module": "@jupyter-widgets/controls",
      "model_module_version": "1.5.0",
      "model_name": "HBoxModel",
      "state": {
       "children": [
        "IPY_MODEL_eeac4a8eff5e498d8fb1fb4d3e550f67",
        "IPY_MODEL_8119a99e73614f60a390736ea75d5176",
        "IPY_MODEL_56bb1e0e414144668126173c00e4aece"
       ],
       "layout": "IPY_MODEL_ca8aecbdefcc4c15aea291e002761260"
      }
     },
     "56bb1e0e414144668126173c00e4aece": {
      "model_module": "@jupyter-widgets/controls",
      "model_module_version": "1.5.0",
      "model_name": "HTMLModel",
      "state": {
       "layout": "IPY_MODEL_6409eed40eed43cd9b231f553e9ef0c8",
       "style": "IPY_MODEL_624d7cf3eb4f4af297c182b1c27d72b6",
       "value": " 1648877/1648877 [00:00&lt;00:00, 3033914.87it/s]"
      }
     },
     "58f222a687ca426bb5bb47137b76c65a": {
      "model_module": "@jupyter-widgets/controls",
      "model_module_version": "1.5.0",
      "model_name": "ProgressStyleModel",
      "state": {
       "description_width": ""
      }
     },
     "624d7cf3eb4f4af297c182b1c27d72b6": {
      "model_module": "@jupyter-widgets/controls",
      "model_module_version": "1.5.0",
      "model_name": "DescriptionStyleModel",
      "state": {
       "description_width": ""
      }
     },
     "6409eed40eed43cd9b231f553e9ef0c8": {
      "model_module": "@jupyter-widgets/base",
      "model_module_version": "1.2.0",
      "model_name": "LayoutModel",
      "state": {}
     },
     "6abe1f983e0a4ca49ab875f1ee3c3a7d": {
      "model_module": "@jupyter-widgets/base",
      "model_module_version": "1.2.0",
      "model_name": "LayoutModel",
      "state": {}
     },
     "6eb8837ec7a24bbdb7258f048189c33a": {
      "model_module": "@jupyter-widgets/controls",
      "model_module_version": "1.5.0",
      "model_name": "FloatProgressModel",
      "state": {
       "bar_style": "success",
       "layout": "IPY_MODEL_73de746f32b5404596ea6ea4e93f1c50",
       "max": 28881,
       "style": "IPY_MODEL_58f222a687ca426bb5bb47137b76c65a",
       "value": 28881
      }
     },
     "712dc46f607c4e9c8b59263205d4e022": {
      "model_module": "@jupyter-widgets/controls",
      "model_module_version": "1.5.0",
      "model_name": "DescriptionStyleModel",
      "state": {
       "description_width": ""
      }
     },
     "73de746f32b5404596ea6ea4e93f1c50": {
      "model_module": "@jupyter-widgets/base",
      "model_module_version": "1.2.0",
      "model_name": "LayoutModel",
      "state": {}
     },
     "74a3d2b95f414d2ab83308da331916e1": {
      "model_module": "@jupyter-widgets/base",
      "model_module_version": "1.2.0",
      "model_name": "LayoutModel",
      "state": {}
     },
     "74e8621937044ac6901a248f278b5fb1": {
      "model_module": "@jupyter-widgets/controls",
      "model_module_version": "1.5.0",
      "model_name": "FloatProgressModel",
      "state": {
       "bar_style": "success",
       "layout": "IPY_MODEL_ced24dcc45ad4a1a85ffe8538b5df67b",
       "max": 9912422,
       "style": "IPY_MODEL_bfe6a543e5064e6a901296432c352419",
       "value": 9912422
      }
     },
     "7f371c1b64a5412aa9650c44ce354738": {
      "model_module": "@jupyter-widgets/base",
      "model_module_version": "1.2.0",
      "model_name": "LayoutModel",
      "state": {}
     },
     "8119a99e73614f60a390736ea75d5176": {
      "model_module": "@jupyter-widgets/controls",
      "model_module_version": "1.5.0",
      "model_name": "FloatProgressModel",
      "state": {
       "bar_style": "success",
       "layout": "IPY_MODEL_2f9cd6439d084c8ca85f0e480197b5a6",
       "max": 1648877,
       "style": "IPY_MODEL_96cc6f7504f5429b862ae543c2b4a982",
       "value": 1648877
      }
     },
     "820e97c8b7514f64bd39b188e2ba5a0b": {
      "model_module": "@jupyter-widgets/base",
      "model_module_version": "1.2.0",
      "model_name": "LayoutModel",
      "state": {}
     },
     "82e4f51adecb43daa1cffe28d65def3b": {
      "model_module": "@jupyter-widgets/controls",
      "model_module_version": "1.5.0",
      "model_name": "DescriptionStyleModel",
      "state": {
       "description_width": ""
      }
     },
     "8ff8cf0fa21e40aaa9077d08e1b45ce5": {
      "model_module": "@jupyter-widgets/controls",
      "model_module_version": "1.5.0",
      "model_name": "HTMLModel",
      "state": {
       "layout": "IPY_MODEL_fbd20ce107534f449402fa7c3ae858f4",
       "style": "IPY_MODEL_fa02402bd3ee4e0cb0b0ccc3cc235a73",
       "value": "100%"
      }
     },
     "96cc6f7504f5429b862ae543c2b4a982": {
      "model_module": "@jupyter-widgets/controls",
      "model_module_version": "1.5.0",
      "model_name": "ProgressStyleModel",
      "state": {
       "description_width": ""
      }
     },
     "98fe6afe0d9849c98a9a0d046ed1751e": {
      "model_module": "@jupyter-widgets/controls",
      "model_module_version": "1.5.0",
      "model_name": "DescriptionStyleModel",
      "state": {
       "description_width": ""
      }
     },
     "99202bb67b0c4fbcb529b118aca360e2": {
      "model_module": "@jupyter-widgets/controls",
      "model_module_version": "1.5.0",
      "model_name": "HBoxModel",
      "state": {
       "children": [
        "IPY_MODEL_2cede76c4e804647a62aaac642495628",
        "IPY_MODEL_74e8621937044ac6901a248f278b5fb1",
        "IPY_MODEL_a53dfd6c34604bbbbe58ecd4d2a50441"
       ],
       "layout": "IPY_MODEL_f79c02e522a54c05b322b68110c340ca"
      }
     },
     "a53dfd6c34604bbbbe58ecd4d2a50441": {
      "model_module": "@jupyter-widgets/controls",
      "model_module_version": "1.5.0",
      "model_name": "HTMLModel",
      "state": {
       "layout": "IPY_MODEL_cd3564b9d73a4c4587a80ced0dd7de64",
       "style": "IPY_MODEL_98fe6afe0d9849c98a9a0d046ed1751e",
       "value": " 9912422/9912422 [00:04&lt;00:00, 2588106.05it/s]"
      }
     },
     "a7e8f85370964e8e8cc7bc515b05d999": {
      "model_module": "@jupyter-widgets/controls",
      "model_module_version": "1.5.0",
      "model_name": "ProgressStyleModel",
      "state": {
       "description_width": ""
      }
     },
     "ab0bb31c2c7e430ea96d5d7cc5108af1": {
      "model_module": "@jupyter-widgets/controls",
      "model_module_version": "1.5.0",
      "model_name": "FloatProgressModel",
      "state": {
       "bar_style": "success",
       "layout": "IPY_MODEL_4f301e2b7252445aaee92a7dff30b1bd",
       "max": 4542,
       "style": "IPY_MODEL_a7e8f85370964e8e8cc7bc515b05d999",
       "value": 4542
      }
     },
     "b09637c7db534893ad76760685997326": {
      "model_module": "@jupyter-widgets/controls",
      "model_module_version": "1.5.0",
      "model_name": "DescriptionStyleModel",
      "state": {
       "description_width": ""
      }
     },
     "bfe6a543e5064e6a901296432c352419": {
      "model_module": "@jupyter-widgets/controls",
      "model_module_version": "1.5.0",
      "model_name": "ProgressStyleModel",
      "state": {
       "description_width": ""
      }
     },
     "c232e5cd8d90495a847d25a89157785d": {
      "model_module": "@jupyter-widgets/base",
      "model_module_version": "1.2.0",
      "model_name": "LayoutModel",
      "state": {}
     },
     "c4fe3035103d44b48841f14d7a4b99f7": {
      "model_module": "@jupyter-widgets/controls",
      "model_module_version": "1.5.0",
      "model_name": "DescriptionStyleModel",
      "state": {
       "description_width": ""
      }
     },
     "c7daea92923f4941bf01a266162c9ee0": {
      "model_module": "@jupyter-widgets/base",
      "model_module_version": "1.2.0",
      "model_name": "LayoutModel",
      "state": {}
     },
     "ca8aecbdefcc4c15aea291e002761260": {
      "model_module": "@jupyter-widgets/base",
      "model_module_version": "1.2.0",
      "model_name": "LayoutModel",
      "state": {}
     },
     "cd3564b9d73a4c4587a80ced0dd7de64": {
      "model_module": "@jupyter-widgets/base",
      "model_module_version": "1.2.0",
      "model_name": "LayoutModel",
      "state": {}
     },
     "ced24dcc45ad4a1a85ffe8538b5df67b": {
      "model_module": "@jupyter-widgets/base",
      "model_module_version": "1.2.0",
      "model_name": "LayoutModel",
      "state": {}
     },
     "edb5f12ab2f843a9ab9e052339405015": {
      "model_module": "@jupyter-widgets/controls",
      "model_module_version": "1.5.0",
      "model_name": "HBoxModel",
      "state": {
       "children": [
        "IPY_MODEL_8ff8cf0fa21e40aaa9077d08e1b45ce5",
        "IPY_MODEL_ab0bb31c2c7e430ea96d5d7cc5108af1",
        "IPY_MODEL_fe187968db8d4b17a902bec095d09fc8"
       ],
       "layout": "IPY_MODEL_c7daea92923f4941bf01a266162c9ee0"
      }
     },
     "eeac4a8eff5e498d8fb1fb4d3e550f67": {
      "model_module": "@jupyter-widgets/controls",
      "model_module_version": "1.5.0",
      "model_name": "HTMLModel",
      "state": {
       "layout": "IPY_MODEL_74a3d2b95f414d2ab83308da331916e1",
       "style": "IPY_MODEL_1afffa31168d4d8abdb67b3de95b84d0",
       "value": "100%"
      }
     },
     "f736883c5a294194ab63f4ef97b938b4": {
      "model_module": "@jupyter-widgets/base",
      "model_module_version": "1.2.0",
      "model_name": "LayoutModel",
      "state": {}
     },
     "f79c02e522a54c05b322b68110c340ca": {
      "model_module": "@jupyter-widgets/base",
      "model_module_version": "1.2.0",
      "model_name": "LayoutModel",
      "state": {}
     },
     "fa02402bd3ee4e0cb0b0ccc3cc235a73": {
      "model_module": "@jupyter-widgets/controls",
      "model_module_version": "1.5.0",
      "model_name": "DescriptionStyleModel",
      "state": {
       "description_width": ""
      }
     },
     "fbd20ce107534f449402fa7c3ae858f4": {
      "model_module": "@jupyter-widgets/base",
      "model_module_version": "1.2.0",
      "model_name": "LayoutModel",
      "state": {}
     },
     "fe187968db8d4b17a902bec095d09fc8": {
      "model_module": "@jupyter-widgets/controls",
      "model_module_version": "1.5.0",
      "model_name": "HTMLModel",
      "state": {
       "layout": "IPY_MODEL_7f371c1b64a5412aa9650c44ce354738",
       "style": "IPY_MODEL_712dc46f607c4e9c8b59263205d4e022",
       "value": " 4542/4542 [00:00&lt;00:00, 106135.22it/s]"
      }
     }
    },
    "version_major": 2,
    "version_minor": 0
   }
  }
 },
 "nbformat": 4,
 "nbformat_minor": 5
}
